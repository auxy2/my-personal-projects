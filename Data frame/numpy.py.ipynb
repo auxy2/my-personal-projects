{
 "cells": [
  {
   "cell_type": "markdown",
   "id": "2c3ff9e3",
   "metadata": {},
   "source": [
    "# Numpy(np.arange,reshape,random,slicing,round)"
   ]
  },
  {
   "cell_type": "code",
   "execution_count": null,
   "id": "f46f634f",
   "metadata": {},
   "outputs": [],
   "source": [
    "            "
   ]
  },
  {
   "cell_type": "code",
   "execution_count": 1,
   "id": "cd9e5cb6",
   "metadata": {},
   "outputs": [],
   "source": [
    "import numpy as np"
   ]
  },
  {
   "cell_type": "code",
   "execution_count": 2,
   "id": "52c68937",
   "metadata": {},
   "outputs": [
    {
     "name": "stdout",
     "output_type": "stream",
     "text": [
      "[1 3 3 1 4]\n"
     ]
    }
   ],
   "source": [
    "a = np.array([1,3,3,1,4])\n",
    "b = np.array((2,5,4,5))\n",
    "print(a)"
   ]
  },
  {
   "cell_type": "code",
   "execution_count": 3,
   "id": "d75292ca",
   "metadata": {},
   "outputs": [
    {
     "data": {
      "text/plain": [
       "numpy.ndarray"
      ]
     },
     "execution_count": 3,
     "metadata": {},
     "output_type": "execute_result"
    }
   ],
   "source": [
    "type(a)"
   ]
  },
  {
   "cell_type": "code",
   "execution_count": 4,
   "id": "888a2048",
   "metadata": {},
   "outputs": [
    {
     "name": "stdout",
     "output_type": "stream",
     "text": [
      "[2 5 4 5]\n"
     ]
    }
   ],
   "source": [
    "print(b)"
   ]
  },
  {
   "cell_type": "code",
   "execution_count": 5,
   "id": "98e7abda",
   "metadata": {},
   "outputs": [
    {
     "data": {
      "text/plain": [
       "numpy.ndarray"
      ]
     },
     "execution_count": 5,
     "metadata": {},
     "output_type": "execute_result"
    }
   ],
   "source": [
    "type(b)"
   ]
  },
  {
   "cell_type": "code",
   "execution_count": 6,
   "id": "5e4ec603",
   "metadata": {},
   "outputs": [
    {
     "data": {
      "text/plain": [
       "2"
      ]
     },
     "execution_count": 6,
     "metadata": {},
     "output_type": "execute_result"
    }
   ],
   "source": [
    "a = np.array([[1,3,4,5,],[4,55,6,6,]])\n",
    "a.ndim"
   ]
  },
  {
   "cell_type": "code",
   "execution_count": 7,
   "id": "b925bb54",
   "metadata": {},
   "outputs": [
    {
     "data": {
      "text/plain": [
       "4"
      ]
     },
     "execution_count": 7,
     "metadata": {},
     "output_type": "execute_result"
    }
   ],
   "source": [
    "a[0,2]"
   ]
  },
  {
   "cell_type": "code",
   "execution_count": 8,
   "id": "3400b299",
   "metadata": {},
   "outputs": [
    {
     "data": {
      "text/plain": [
       "55"
      ]
     },
     "execution_count": 8,
     "metadata": {},
     "output_type": "execute_result"
    }
   ],
   "source": [
    "a[1,1]"
   ]
  },
  {
   "cell_type": "code",
   "execution_count": 9,
   "id": "b2e60528",
   "metadata": {},
   "outputs": [
    {
     "data": {
      "text/plain": [
       "3"
      ]
     },
     "execution_count": 9,
     "metadata": {},
     "output_type": "execute_result"
    }
   ],
   "source": [
    "c = np.array([[[1,4,6,6],[2,4,5,6],[5,7,4,26,]],[[6,2,4,2],[5,3,7,3],[6,3,73,5]]])\n",
    "c.ndim"
   ]
  },
  {
   "cell_type": "code",
   "execution_count": 10,
   "id": "7e22b365",
   "metadata": {},
   "outputs": [
    {
     "data": {
      "text/plain": [
       "4"
      ]
     },
     "execution_count": 10,
     "metadata": {},
     "output_type": "execute_result"
    }
   ],
   "source": [
    "c[1,0,2]\n"
   ]
  },
  {
   "cell_type": "code",
   "execution_count": 11,
   "id": "539c01da",
   "metadata": {},
   "outputs": [
    {
     "data": {
      "text/plain": [
       "numpy.ndarray"
      ]
     },
     "execution_count": 11,
     "metadata": {},
     "output_type": "execute_result"
    }
   ],
   "source": [
    "type(c)"
   ]
  },
  {
   "cell_type": "code",
   "execution_count": 12,
   "id": "7dc480fd",
   "metadata": {},
   "outputs": [
    {
     "data": {
      "text/plain": [
       "(2, 3, 4)"
      ]
     },
     "execution_count": 12,
     "metadata": {},
     "output_type": "execute_result"
    }
   ],
   "source": [
    "c.shape"
   ]
  },
  {
   "cell_type": "code",
   "execution_count": 13,
   "id": "8085c7f5",
   "metadata": {},
   "outputs": [
    {
     "data": {
      "text/plain": [
       "4"
      ]
     },
     "execution_count": 13,
     "metadata": {},
     "output_type": "execute_result"
    }
   ],
   "source": [
    "c.shape[2]"
   ]
  },
  {
   "cell_type": "code",
   "execution_count": 14,
   "id": "5c965248",
   "metadata": {},
   "outputs": [
    {
     "data": {
      "text/plain": [
       "2"
      ]
     },
     "execution_count": 14,
     "metadata": {},
     "output_type": "execute_result"
    }
   ],
   "source": [
    "c.shape[0]"
   ]
  },
  {
   "cell_type": "code",
   "execution_count": 15,
   "id": "bb0a0662",
   "metadata": {},
   "outputs": [
    {
     "data": {
      "text/plain": [
       "24"
      ]
     },
     "execution_count": 15,
     "metadata": {},
     "output_type": "execute_result"
    }
   ],
   "source": [
    "c.size"
   ]
  },
  {
   "cell_type": "code",
   "execution_count": 16,
   "id": "9be912f4",
   "metadata": {},
   "outputs": [
    {
     "data": {
      "text/plain": [
       "192"
      ]
     },
     "execution_count": 16,
     "metadata": {},
     "output_type": "execute_result"
    }
   ],
   "source": [
    "c.nbytes"
   ]
  },
  {
   "cell_type": "markdown",
   "id": "ce8e799b",
   "metadata": {},
   "source": [
    "# arrange"
   ]
  },
  {
   "cell_type": "code",
   "execution_count": 17,
   "id": "92f925c3",
   "metadata": {},
   "outputs": [
    {
     "name": "stdout",
     "output_type": "stream",
     "text": [
      "[ 4  5  6  7  8  9 10 11 12 13 14 15 16 17 18 19 20 21 22 23 24 25 26 27\n",
      " 28 29 30 31 32 33 34 35 36 37 38 39]\n"
     ]
    }
   ],
   "source": [
    "a = np.arange(4,40)\n",
    "print(a)"
   ]
  },
  {
   "cell_type": "code",
   "execution_count": 18,
   "id": "307f1c3a",
   "metadata": {},
   "outputs": [
    {
     "name": "stdout",
     "output_type": "stream",
     "text": [
      "[ 4  5  6  7  8  9 10 11 12 13 14 15 16 17 18 19 20 21 22 23 24 25 26 27\n",
      " 28 29 30 31 32 33 34 35 36 37 38 39]\n"
     ]
    }
   ],
   "source": [
    "print(a)"
   ]
  },
  {
   "cell_type": "code",
   "execution_count": 19,
   "id": "1a79266f",
   "metadata": {},
   "outputs": [
    {
     "name": "stdout",
     "output_type": "stream",
     "text": [
      "[0, 1, 2, 3, 4, 5, 6, 7, 8, 9]\n"
     ]
    }
   ],
   "source": [
    "print(list(range(10)))"
   ]
  },
  {
   "cell_type": "markdown",
   "id": "88710ac1",
   "metadata": {},
   "source": [
    "# random/hist"
   ]
  },
  {
   "cell_type": "code",
   "execution_count": 20,
   "id": "6542dd12",
   "metadata": {},
   "outputs": [
    {
     "name": "stdout",
     "output_type": "stream",
     "text": [
      "[2 7 8 6 3 5 4 9 1 0]\n"
     ]
    }
   ],
   "source": [
    "a = np.random.permutation(np.arange(10))\n",
    "print(a)"
   ]
  },
  {
   "cell_type": "code",
   "execution_count": 21,
   "id": "a5c4dd71",
   "metadata": {},
   "outputs": [
    {
     "data": {
      "text/plain": [
       "26"
      ]
     },
     "execution_count": 21,
     "metadata": {},
     "output_type": "execute_result"
    }
   ],
   "source": [
    "np.random.randint(20,30)"
   ]
  },
  {
   "cell_type": "code",
   "execution_count": null,
   "id": "3b7d883e",
   "metadata": {},
   "outputs": [],
   "source": []
  },
  {
   "cell_type": "code",
   "execution_count": 22,
   "id": "a27d5863",
   "metadata": {},
   "outputs": [
    {
     "data": {
      "text/plain": [
       "array([ 7.26969246e-01,  1.47926107e+00, -8.85039916e-01,  1.02508654e+00,\n",
       "        1.68492742e+00,  4.84793548e-01, -5.45932202e-01,  1.20612160e+00,\n",
       "        1.67398289e+00,  2.06983890e+00, -7.57582101e-02, -4.13600746e-01,\n",
       "        1.48841670e+00,  7.33491790e-02, -2.18097344e+00,  8.61487383e-01,\n",
       "       -2.01940382e-01,  5.09924230e-01, -9.45549286e-01,  1.33684883e+00,\n",
       "        2.74308475e-01, -1.52934276e+00, -2.78783584e-01, -4.84941917e-01,\n",
       "       -7.23686608e-04,  1.11988523e+00, -1.79266959e-01,  6.28141656e-01,\n",
       "        1.62607462e+00, -9.26037306e-01,  9.68505022e-02,  1.48710801e-01,\n",
       "        4.20754951e-01,  4.42256961e-01, -1.27645215e+00, -1.34364928e+00,\n",
       "        9.38327426e-01, -2.69972349e-01,  1.39986845e+00, -9.55574639e-01,\n",
       "       -1.82938714e+00,  2.67677728e-01,  7.85829283e-01,  9.70128072e-01,\n",
       "        1.02323139e+00,  1.64387188e+00,  1.37273453e+00,  2.13289081e-01,\n",
       "        3.05959710e-02,  5.58292504e-01, -9.41374636e-01, -8.27383047e-01,\n",
       "       -6.93045452e-01,  2.51175029e-01,  5.38215953e-01, -4.18984164e-01,\n",
       "       -7.59806860e-01, -4.67846840e-01,  2.29042168e-02, -1.17732187e+00,\n",
       "       -1.20800000e-01, -2.71594916e-01, -1.58853769e-01, -1.64458215e+00,\n",
       "       -1.50138066e+00,  1.19662443e-01, -3.69532317e-01,  6.59578604e-01,\n",
       "        5.02841819e-01, -2.63478355e-01,  6.67040589e-01, -1.20649314e+00,\n",
       "        3.48598017e-01, -8.03564515e-02, -4.56336657e-01, -1.18890324e+00,\n",
       "        3.23077606e-01,  1.04685180e+00,  2.19414159e+00,  8.12466159e-01,\n",
       "       -1.36153884e+00,  1.27576292e+00, -2.54797028e-01, -4.78735806e-01,\n",
       "        1.12691339e+00, -1.30470326e-01,  3.34658141e-01,  1.89716722e+00,\n",
       "        7.12408547e-01,  1.11356903e+00, -2.56864431e-01,  9.36712855e-01,\n",
       "        6.79974853e-01,  9.42784639e-01,  1.39946691e-01,  6.97816043e-02,\n",
       "        3.05406840e-01, -8.04123187e-01, -9.67775583e-01, -9.80792775e-01,\n",
       "       -1.87363026e+00, -7.60433682e-01,  1.78589146e+00, -3.24540024e-01,\n",
       "        1.66198029e+00, -1.92953749e+00,  1.18554172e+00,  7.32123313e-01,\n",
       "        8.13562245e-03,  7.60821852e-01,  4.99632140e-01, -9.82617817e-02,\n",
       "       -6.19408813e-01, -9.24494423e-02,  1.62036177e+00, -1.01489319e+00,\n",
       "        1.02630326e+00, -9.23412877e-01,  3.50863656e-01, -3.57115194e-01,\n",
       "        1.30010340e+00, -1.99886882e+00, -2.27636543e+00,  5.59020098e-01,\n",
       "        9.02419600e-01, -1.31947932e+00, -1.55789218e+00,  1.00168092e-01,\n",
       "        7.57837560e-01,  5.70201770e-01, -1.85912077e+00, -8.69636171e-01,\n",
       "       -3.94736893e-01,  3.32935340e-01,  1.44571997e+00,  8.19525084e-01,\n",
       "        5.37960580e-01,  9.68496788e-01, -1.32555388e-01,  2.45363238e+00,\n",
       "       -8.29568194e-01,  2.50044316e-01,  1.66564222e+00,  1.09361129e+00,\n",
       "        2.74609193e-01, -3.42408217e-01, -1.20388214e+00,  4.45471052e-01,\n",
       "       -1.57580981e-01, -1.22961685e+00,  2.85638830e-01,  1.34585596e+00,\n",
       "       -3.89227566e-01,  1.74635697e+00,  1.85500988e-01, -2.27534647e-02,\n",
       "       -2.04146645e-01, -7.29795441e-01, -4.73139822e-01,  1.73363513e+00,\n",
       "       -1.60132094e+00,  2.99290706e-01, -1.48176878e+00,  6.91505342e-01,\n",
       "       -2.10817919e-02, -1.11183867e+00, -1.90260804e-01, -5.91039028e-01,\n",
       "       -2.15849730e-01, -2.34003049e-01,  8.63533886e-01,  1.62803789e+00,\n",
       "        9.92571332e-01,  1.23917049e-01,  1.05151652e+00, -4.03430746e-01,\n",
       "        8.88350699e-01,  5.95108726e-01,  1.80072516e-02, -1.39426912e-01,\n",
       "        6.54159055e-01, -8.89642508e-01, -9.20000739e-01,  4.70502724e-01,\n",
       "       -1.13228214e-01,  1.09604873e+00,  5.29991774e-01,  7.55919236e-01,\n",
       "        1.45528067e+00,  1.15090906e+00,  8.36117310e-01,  1.59510984e+00,\n",
       "        2.19853113e-01, -3.41640290e-01,  7.96165443e-01, -2.68376180e-01,\n",
       "       -1.36745697e+00,  8.38343634e-02,  3.59186004e-02,  1.04523859e+00,\n",
       "        1.26204598e+00,  1.46741473e+00, -2.80395749e-01,  1.24309997e+00,\n",
       "       -3.79117016e-01,  3.74996655e-01,  7.12712173e-01,  1.34451731e-01,\n",
       "       -2.76234064e-01,  1.06094647e+00, -1.37045515e-01,  5.89918391e-01,\n",
       "       -1.54228356e+00, -1.16970604e+00,  1.04348033e+00,  1.65400225e-01,\n",
       "        9.21971021e-01, -5.19076236e-01,  1.86665721e-01,  2.23137852e+00,\n",
       "        8.64027729e-01,  9.28757228e-01,  4.32052710e-01, -5.22427011e-01,\n",
       "       -1.64713115e-01,  4.29866729e-01,  8.24187411e-01, -1.04843561e+00,\n",
       "        1.13892859e+00,  5.65074540e-01,  6.22353471e-01, -1.64528022e+00,\n",
       "       -1.41668001e+00, -1.05872250e+00,  1.22019044e+00,  2.17168555e+00,\n",
       "       -2.01664120e+00,  1.78158467e+00, -4.79608491e-01, -1.27602948e+00,\n",
       "       -3.00013365e-01,  5.11208122e-01,  1.35641783e+00, -3.68188665e-03,\n",
       "       -1.15875969e+00, -1.80970925e+00, -1.22604431e+00, -1.39541914e+00,\n",
       "        7.16188606e-01,  6.46672271e-01, -3.55551823e-01, -3.58742765e-01,\n",
       "       -7.14195926e-01, -1.27995184e+00, -6.10192758e-01,  6.85452587e-01,\n",
       "       -5.36824820e-01, -3.56264371e-01, -7.49460397e-01,  5.23751895e-01,\n",
       "        5.89138584e-01,  1.35832339e+00,  6.13857633e-01, -2.81070530e-01,\n",
       "       -8.36973068e-01,  1.30022511e+00, -7.97410735e-01,  5.55387233e-01,\n",
       "       -2.93580958e-01, -3.10517541e+00,  1.39422960e+00,  2.30389596e-01,\n",
       "       -1.45184060e+00,  4.76969571e-01, -1.41581740e+00,  1.67460783e+00,\n",
       "        1.81201619e-01,  1.12221389e+00, -7.16061759e-01, -6.46443249e-01,\n",
       "       -1.23147015e+00, -8.55951824e-02,  6.33934952e-02,  1.74946221e+00,\n",
       "        4.10909417e-01,  6.28122440e-03,  1.62592297e+00, -5.96800445e-02,\n",
       "        1.38161221e-01,  1.86963317e+00,  3.38131518e-01, -1.45831750e-01,\n",
       "       -4.68035183e-01, -7.18727282e-01,  2.55435926e-01,  2.28226696e-01,\n",
       "        5.67201962e-01, -1.39309305e+00,  7.37725342e-01,  4.15712457e-01,\n",
       "        1.91499720e+00, -1.01139328e+00, -2.33176983e-01, -4.81230230e-01,\n",
       "        1.35779182e-01, -8.24242040e-01, -1.10695027e+00,  4.44589000e-01,\n",
       "        1.18986916e+00, -7.17657476e-01, -2.03866468e+00,  1.97613582e+00,\n",
       "       -2.33259445e-01,  1.64821077e+00,  5.09869472e-01, -1.50596639e+00,\n",
       "        9.78556372e-01, -7.09019969e-01,  2.17206460e-01,  1.29505467e+00,\n",
       "       -2.24038003e+00, -8.31503628e-01,  7.67326763e-01, -1.25407433e+00,\n",
       "       -1.01771841e+00,  2.01233306e-01, -1.25219649e+00, -2.69470603e+00,\n",
       "        2.57425742e-02, -9.26623325e-01, -1.04046793e+00,  5.55470572e-01,\n",
       "        1.55485902e+00, -2.15602381e-01, -1.17106639e-01,  2.16486017e-01,\n",
       "        5.96590495e-01,  6.04672069e-01, -1.31974469e+00,  1.38436736e+00,\n",
       "       -5.75144687e-01, -2.65037228e-02, -1.41506987e+00, -1.05543301e+00,\n",
       "       -2.30515275e+00, -5.63026033e-04,  2.70467002e-01, -9.72518282e-01,\n",
       "        1.40517050e-01, -1.44112043e+00,  3.33319841e-01,  8.39891010e-01,\n",
       "        1.25473301e+00, -1.15805206e+00,  1.42680086e+00, -7.76821331e-01,\n",
       "       -1.26942984e+00, -2.86604733e-01,  4.96480885e-01,  2.01599843e+00,\n",
       "       -1.70087779e-01, -8.90932495e-01,  1.97139864e-01,  1.32417075e+00,\n",
       "        4.43177448e-01,  1.74950360e+00,  3.93096699e-01,  3.66363972e-01,\n",
       "        2.82154358e-01, -3.87041527e-01,  1.21216578e+00, -8.46609996e-01,\n",
       "        3.79742873e-01,  5.56471642e-01, -2.96480774e-01,  1.73294443e-01,\n",
       "       -6.57291321e-01, -3.53101227e-01, -1.69394299e+00,  1.25935384e+00,\n",
       "       -1.51478479e+00, -1.72294130e+00,  5.29152788e-01, -4.86140680e-01,\n",
       "        5.03324251e-01,  2.46267994e-01,  3.54956569e-01,  4.09250055e-01,\n",
       "        3.32693075e-01, -2.27114651e-01, -2.86720014e-01,  4.73803940e-01,\n",
       "        8.83362611e-02,  1.84570445e-01,  8.68374385e-01, -3.50552012e-01,\n",
       "        2.21904188e-01,  6.43668759e-01,  3.77268848e-01,  6.98734217e-02,\n",
       "       -1.73412690e+00, -1.19359086e+00, -7.25613003e-01, -1.77275496e+00,\n",
       "        4.48343975e-01, -5.68511268e-01,  2.03223731e+00, -7.03762479e-01,\n",
       "        1.28948336e+00, -2.17139500e+00, -5.49608235e-02, -6.23131806e-02,\n",
       "        7.20021871e-01, -4.53290668e-01, -2.94090394e-02,  2.69145797e-01,\n",
       "       -5.81992880e-01, -1.33699452e+00,  2.88143736e-01, -5.83416974e-01,\n",
       "        9.24847288e-01,  1.05372427e+00, -5.33574118e-01, -1.68480468e+00,\n",
       "        4.58427896e-01,  6.65987870e-01, -1.04015642e+00, -5.88887721e-01,\n",
       "        6.61667903e-01,  1.61083368e-01,  1.38675481e+00,  2.50894223e-01,\n",
       "        4.35142008e-01,  5.60981076e-01, -5.53198439e-02, -4.94197597e-02,\n",
       "        1.82054117e-01,  1.22862578e+00,  1.23653936e+00, -9.29462519e-01,\n",
       "       -2.84438650e-01, -5.85497754e-01, -1.48619738e-01,  1.11984544e+00,\n",
       "       -3.29372965e-01,  7.65538032e-01, -6.30576832e-01, -5.70359634e-01,\n",
       "        1.35816282e+00,  1.49388808e+00, -7.52300991e-01, -6.55467584e-01,\n",
       "       -1.83990898e+00, -1.11839153e+00, -3.07163609e-01, -9.58830595e-03,\n",
       "        1.82806735e+00,  1.65579512e+00,  4.17883524e-01, -1.30862850e+00,\n",
       "       -1.39118725e+00, -1.19141596e-01,  1.94873965e+00, -5.96299053e-01,\n",
       "       -8.50746416e-01,  1.21018195e+00,  2.99213418e-01, -8.21359080e-01,\n",
       "        1.32478784e+00, -1.55944746e-01,  1.01119723e+00,  7.71487488e-01,\n",
       "        2.83660484e-01, -7.05131614e-01, -1.87955734e+00,  1.41055059e-01,\n",
       "       -2.08716864e-01, -6.04623392e-01,  4.02870022e-01,  7.09826189e-01,\n",
       "        8.95694689e-01, -8.57597117e-01, -1.75233292e+00,  5.05036010e-01,\n",
       "       -7.48529405e-01, -9.53059439e-01,  4.66110724e-01,  1.39238039e+00,\n",
       "       -5.94905430e-01, -7.55926689e-02,  3.79127020e-01, -1.27930521e-01,\n",
       "       -1.10159554e-01, -1.93601055e+00,  1.15030318e+00,  2.11312773e+00,\n",
       "        1.05594545e-01, -7.52667322e-01,  1.34377581e-01, -1.98747683e+00,\n",
       "        2.11293723e+00,  1.94213840e+00,  1.86506300e-01,  7.73409359e-01,\n",
       "        1.58460624e+00,  1.38537274e+00,  5.97386983e-01, -6.98616193e-01,\n",
       "       -1.02774672e+00,  8.37746139e-01, -6.18393784e-02, -1.92308449e-01,\n",
       "        1.07366691e-01,  3.81551990e-01,  1.01692900e+00,  2.50326687e+00,\n",
       "       -1.05899134e+00, -1.95552177e-01,  1.71257450e+00, -1.86639972e+00,\n",
       "       -4.43704255e-01, -6.42259821e-01, -2.04700599e-01,  7.06096657e-01,\n",
       "       -2.26876087e-01, -8.14265769e-01,  1.68564970e-01, -9.76011970e-03,\n",
       "       -3.77280790e-01, -4.21196088e-01,  8.56023599e-02,  8.20872031e-01,\n",
       "       -1.10190748e+00, -8.24436156e-01, -8.91641736e-01, -1.11840673e+00,\n",
       "        6.15105493e-01, -2.85000942e-01, -7.20740301e-01,  5.12727684e-01,\n",
       "        6.46205582e-02, -1.24387815e+00, -3.23038050e-01,  3.04607416e-01,\n",
       "       -1.51365116e-02,  2.56317888e-01,  6.28404862e-01,  3.87616719e-01,\n",
       "       -2.15684664e-01, -1.32667215e+00, -8.58790924e-02, -2.36064607e-01,\n",
       "        7.21922154e-02, -1.79497107e+00, -1.61987673e+00, -9.04372856e-01,\n",
       "       -8.44577865e-01,  3.49765108e-01,  3.67555686e-01,  2.33522501e-01,\n",
       "       -7.40473391e-01,  1.05480458e-02, -4.56179295e-01, -2.84192572e-01,\n",
       "        3.81484230e-01, -1.07188934e+00, -3.93101906e-01,  5.69175250e-01,\n",
       "       -3.74300252e-01,  8.60630470e-02, -6.90013057e-01,  1.47240321e+00,\n",
       "        1.78220432e+00, -1.86459439e-02, -1.29649018e+00, -1.88795168e+00,\n",
       "        1.04247249e+00, -1.22905153e+00, -2.57854079e-01, -1.57942913e+00,\n",
       "       -4.96047130e-01, -8.28965784e-01, -1.87895754e+00, -2.91291712e-01,\n",
       "        4.97042239e-01, -9.44380963e-01,  1.91176396e+00,  1.97140283e-01,\n",
       "       -1.22840279e+00, -1.11397322e+00, -1.52151698e+00, -1.60447771e+00,\n",
       "       -1.78709123e+00,  6.30472943e-02, -1.39801024e+00,  8.79467318e-01,\n",
       "        5.07412092e-01, -1.21997931e+00, -4.65428965e-01,  1.64551214e-01,\n",
       "       -1.22425784e+00,  4.12508801e-01, -1.54270467e+00,  1.27327636e+00,\n",
       "       -2.04744663e+00,  8.14498929e-02, -1.65542399e+00,  1.04508460e+00,\n",
       "        1.52728389e+00,  1.56860432e+00,  6.85831086e-01, -4.67607362e-01,\n",
       "       -7.94186740e-01,  4.65364434e-01,  1.48875312e+00,  5.98468839e-02,\n",
       "        2.94469142e+00,  1.35613351e+00, -1.48073600e+00,  2.98935562e-01,\n",
       "       -1.14559111e+00, -1.52173680e+00, -9.45437426e-01,  4.78134188e-01,\n",
       "        1.22322047e+00, -5.07131371e-01,  4.73964788e-01, -1.36756105e+00,\n",
       "        1.21798009e+00, -1.88579625e-01, -3.35028550e-01, -8.93211293e-01,\n",
       "       -9.62325849e-01, -5.24188610e-01,  1.17201064e-01,  7.01278769e-01,\n",
       "        3.29882644e-01, -6.68493221e-01,  6.58864438e-01, -2.54234017e-01,\n",
       "        2.17825118e-01,  7.76011570e-01, -3.50343602e-01, -1.29941625e+00,\n",
       "       -7.68117535e-01,  2.04241730e+00, -1.80425668e+00,  1.05028892e+00,\n",
       "       -5.14474008e-01,  1.39935232e+00, -1.02721601e+00, -9.03203227e-01,\n",
       "        1.69525560e+00,  1.30716600e+00,  5.22450482e-01, -5.20669100e-01,\n",
       "        1.42671086e+00,  9.67629994e-01,  1.19772842e+00, -1.56041200e-01,\n",
       "        3.36703575e-01,  8.88108906e-01, -2.12842676e-01,  1.02891034e+00,\n",
       "       -4.64032649e-01, -8.98790939e-01,  1.44894564e+00, -1.80876508e+00,\n",
       "       -6.02112032e-01,  1.99282032e+00,  1.00028719e+00,  1.23986284e+00,\n",
       "        9.01539888e-01,  6.82842570e-01, -4.25526941e-01,  1.03321972e-01,\n",
       "       -1.14200013e+00, -6.23975052e-01, -2.55798252e-01, -1.72087293e+00,\n",
       "        1.23992915e+00, -1.46530242e+00,  1.27117770e-01, -7.71827521e-02,\n",
       "        1.46317487e+00, -7.52797000e-01,  3.23141016e-01,  6.25945119e-01,\n",
       "        8.26647250e-01, -3.79982833e-01,  3.22338173e-01, -1.03251055e+00,\n",
       "       -1.97583089e-01,  1.20073849e+00,  1.01661952e-02,  2.52397206e-01,\n",
       "        1.98134571e-01, -1.16767454e+00, -4.81014725e-01,  7.71612519e-01,\n",
       "       -3.35222072e-01,  2.81113007e+00, -4.51607491e-01, -2.76975642e-01,\n",
       "       -6.68549911e-01,  5.00891134e-01, -6.44961698e-01,  4.01909187e-01,\n",
       "       -6.56390292e-01,  1.64099156e-01, -8.79314402e-01, -9.91899152e-02,\n",
       "        3.05915536e-01,  2.30947194e+00, -9.87533515e-01,  1.20120357e+00,\n",
       "       -1.29764353e+00,  1.27963181e+00,  2.06252454e+00, -1.06251656e+00,\n",
       "        5.24271229e-02,  9.62811407e-01, -4.57279719e-01,  8.36601778e-01,\n",
       "       -2.16687215e+00,  1.14652270e+00, -7.35648384e-01,  9.50619526e-01,\n",
       "        4.52032858e-01, -1.32466569e+00,  4.74903534e-01,  1.52947495e-01,\n",
       "       -5.83190442e-01,  4.88056192e-02, -3.00581483e-01,  5.77846828e-01,\n",
       "       -1.32463066e+00,  3.00262220e+00,  1.02264432e+00,  4.24345041e-01,\n",
       "        3.32452218e+00,  2.09799308e+00,  6.38185657e-01,  7.24300175e-01,\n",
       "        9.21414772e-02, -2.82431785e-01,  9.99853436e-01,  3.29902571e-01,\n",
       "        3.09270265e-01,  8.28182934e-01,  8.24330626e-02,  2.90115950e-01,\n",
       "       -1.38197211e+00, -3.32610807e-01,  1.39200018e+00,  1.15639232e+00,\n",
       "       -2.11412985e+00,  4.53670131e-01, -8.72800631e-01,  5.59442055e-01,\n",
       "       -1.24930230e+00, -9.26762408e-01,  2.12718907e+00, -5.41283174e-01,\n",
       "        7.30368407e-01,  3.21389033e-01, -1.39035376e+00, -1.84676315e-01,\n",
       "        6.90453878e-01, -4.28194658e-02, -8.27849715e-01,  1.28441835e+00,\n",
       "        4.85592440e-01,  5.13627949e-01,  4.50266005e-01, -6.89487788e-01,\n",
       "        1.20002175e+00,  8.65829001e-02, -2.03699904e+00,  4.22309642e-02,\n",
       "        2.92993964e-01, -8.98002317e-01,  2.87345417e-01, -6.32722057e-01,\n",
       "       -1.69658199e-01,  1.18817981e+00,  1.18848976e+00,  1.65428027e-01,\n",
       "        5.88903994e-01,  5.88397441e-01,  7.71972512e-01,  3.07335821e-01,\n",
       "        1.99331893e-01, -1.83271136e+00, -6.91640869e-01,  2.26557965e-01,\n",
       "       -1.25125254e+00,  5.25240032e-01,  1.80101106e+00, -1.02579385e+00,\n",
       "        1.91921358e+00, -8.38302311e-01, -4.66885666e-01, -4.11360417e-01,\n",
       "       -5.67976481e-01,  6.41067264e-01,  1.60481367e-01, -2.89155023e-01,\n",
       "        7.28407106e-01, -1.01013487e+00,  9.83971943e-01,  6.71702509e-01,\n",
       "        3.57501644e+00,  6.27537145e-01, -4.87982375e-01, -1.25316422e+00,\n",
       "        1.15141490e-01,  2.58530303e-01,  1.10244590e-01,  4.94937587e-01,\n",
       "        8.63445141e-01,  6.17204966e-01,  1.39458107e-02,  1.72170835e-01,\n",
       "        6.28023027e-01, -9.70267025e-01, -3.55792640e-01, -1.62223082e+00,\n",
       "        6.04105862e-01, -4.74184265e-02, -1.81510687e+00, -1.01440249e+00,\n",
       "        9.84480171e-01,  9.75160083e-01,  2.26247817e-01,  3.00380230e-01,\n",
       "        1.83150507e+00,  4.23454626e-01,  2.36374050e-01, -7.96343730e-01,\n",
       "       -3.91174250e-02,  1.48051102e+00, -5.65117818e-01,  1.67028083e-01,\n",
       "        7.15492455e-01,  3.16869954e-01, -9.29990488e-01, -4.41646382e-01,\n",
       "       -9.48049801e-02, -4.79864703e-01, -5.57735384e-01, -1.26975056e+00,\n",
       "       -2.48016355e-01, -7.43945313e-01, -6.71978230e-01,  5.29560937e-01,\n",
       "        1.06481926e+00,  1.21510208e+00,  1.88248247e-01,  9.40376106e-01,\n",
       "       -2.97442934e-01,  5.43437395e-01,  1.25830070e+00,  1.68690327e+00,\n",
       "       -4.90997431e-01, -9.62541405e-01,  7.03871123e-01,  2.02239853e-01,\n",
       "       -1.66599557e+00,  1.43492961e+00, -9.37288388e-01, -2.08432417e-01,\n",
       "       -6.04847080e-01, -1.87265084e-02, -3.36505825e-02, -7.63739857e-01,\n",
       "       -4.06509366e-01, -2.50610223e+00,  6.47239778e-01, -5.01653335e-01,\n",
       "       -6.76096899e-01,  8.29999606e-01, -1.22768411e-01,  1.36117115e+00,\n",
       "       -3.64997229e-02, -6.33153435e-01,  7.11448702e-01, -5.71797077e-01,\n",
       "       -4.55173047e-01, -6.17185077e-01, -4.66209876e-01,  7.80164434e-02,\n",
       "        1.42629830e+00,  2.65246747e-01, -7.00587057e-01,  9.01426612e-01,\n",
       "        1.36771247e+00, -6.48086334e-01, -1.57546085e-01, -7.65323853e-01,\n",
       "        3.01700114e-01, -5.93375199e-01,  6.07912924e-01,  6.95406364e-01,\n",
       "        3.58842387e-01,  3.46470281e-01,  1.21898922e+00,  3.93858549e-03,\n",
       "       -1.22503421e-01, -8.48388183e-01, -3.74003475e-01,  1.90383193e+00,\n",
       "        1.49720252e+00, -4.74902436e-02,  1.36642584e-01,  1.96396173e-02,\n",
       "       -7.25625428e-01, -1.34589021e+00, -7.96385870e-01, -9.29301729e-01,\n",
       "        7.28213740e-01, -1.17878341e+00, -3.07373067e-01, -3.16189610e-01,\n",
       "       -1.96067898e+00,  2.15978589e+00, -1.41470094e+00,  1.61990949e-01,\n",
       "        2.42103293e+00, -5.50310119e-01,  2.65826599e+00, -9.60214813e-01,\n",
       "        4.48954255e-02, -8.93859690e-01, -1.89207451e-01, -1.82007163e-01,\n",
       "        1.49515858e+00, -8.15182988e-01,  1.77063114e+00, -1.23852027e+00,\n",
       "       -7.08975518e-01, -4.44788742e-01,  8.58762928e-01, -1.36783439e+00,\n",
       "       -2.11819831e-01,  6.43519101e-01, -3.88761364e-02,  4.22648841e-01,\n",
       "        4.31884031e-01, -6.82023383e-01, -8.42091071e-01,  2.86591072e-01,\n",
       "       -9.89777263e-01, -3.57863164e-01,  7.85607261e-01,  6.73686446e-01,\n",
       "        8.01455526e-02, -1.02257368e+00, -1.08642248e+00,  6.18371502e-01,\n",
       "        7.95181205e-01,  6.48546956e-01,  7.52843563e-02,  1.68160068e+00,\n",
       "        2.90516324e-01,  1.04491804e+00,  1.22029835e+00, -1.73844290e-01,\n",
       "        8.92751410e-01,  3.65481991e-01,  9.56207771e-01,  5.32077918e-02,\n",
       "       -1.26154770e+00,  1.04085020e+00, -8.36309241e-01,  7.94269672e-01,\n",
       "       -1.15883695e+00,  4.59449706e-01,  1.73860495e+00, -8.39902656e-01,\n",
       "       -3.14290167e-01,  4.48322621e-01,  7.43078532e-01,  1.67405455e-01,\n",
       "       -8.34045870e-01, -7.70428480e-01, -1.22269179e+00,  1.42721460e+00,\n",
       "        7.68117568e-01, -1.22039157e+00,  1.54204889e-01, -9.94493084e-01,\n",
       "       -1.73199235e+00, -2.09235545e-01, -1.86660007e-01,  1.26733970e+00,\n",
       "        1.10750180e+00, -2.47001332e-01,  1.45778950e+00, -4.34670032e-01])"
      ]
     },
     "execution_count": 22,
     "metadata": {},
     "output_type": "execute_result"
    }
   ],
   "source": [
    "a = np.random.randn(1000)\n",
    "a"
   ]
  },
  {
   "cell_type": "code",
   "execution_count": 23,
   "id": "9ed0a5c3",
   "metadata": {},
   "outputs": [],
   "source": [
    "import matplotlib.pyplot as plt"
   ]
  },
  {
   "cell_type": "code",
   "execution_count": 24,
   "id": "71b73297",
   "metadata": {},
   "outputs": [
    {
     "data": {
      "text/plain": [
       "(array([  3.,  32.,  97., 194., 246., 236., 129.,  53.,   6.,   4.]),\n",
       " array([-3.10517541, -2.43715623, -1.76913704, -1.10111786, -0.43309867,\n",
       "         0.23492051,  0.9029397 ,  1.57095888,  2.23897807,  2.90699725,\n",
       "         3.57501644]),\n",
       " <BarContainer object of 10 artists>)"
      ]
     },
     "execution_count": 24,
     "metadata": {},
     "output_type": "execute_result"
    },
    {
     "data": {
      "image/png": "[encoded data removed]",
      "text/plain": [
       "<Figure size 432x288 with 1 Axes>"
      ]
     },
     "metadata": {
      "needs_background": "light"
     },
     "output_type": "display_data"
    }
   ],
   "source": [
    "plt.hist(a)"
   ]
  },
  {
   "cell_type": "code",
   "execution_count": 25,
   "id": "2c35ce2b",
   "metadata": {},
   "outputs": [
    {
     "data": {
      "text/plain": [
       "(array([ 1.,  0.,  0.,  0.,  0.,  0.,  1.,  0.,  1.,  0.,  0.,  1.,  2.,\n",
       "         2.,  2.,  3.,  3.,  3.,  7.,  9.,  5.,  6.,  5.,  8.,  6., 10.,\n",
       "        13., 16., 16., 12.,  9., 17., 20., 22., 18., 25., 17., 24., 14.,\n",
       "        28., 17., 23., 31., 26., 21., 22., 23., 27., 29., 27., 29., 27.,\n",
       "        23., 26., 27., 23., 23., 23., 18., 17., 12., 15., 14., 11., 19.,\n",
       "        16., 11., 14., 14.,  3.,  6., 11.,  7.,  6.,  3.,  5.,  4.,  4.,\n",
       "         5.,  2.,  0.,  1.,  1.,  2.,  0.,  0.,  1.,  0.,  1.,  0.,  1.,\n",
       "         1.,  0.,  0.,  0.,  0.,  1.,  0.,  0.,  1.]),\n",
       " array([-3.10517541, -3.03837349, -2.97157157, -2.90476966, -2.83796774,\n",
       "        -2.77116582, -2.7043639 , -2.63756198, -2.57076006, -2.50395814,\n",
       "        -2.43715623, -2.37035431, -2.30355239, -2.23675047, -2.16994855,\n",
       "        -2.10314663, -2.03634472, -1.9695428 , -1.90274088, -1.83593896,\n",
       "        -1.76913704, -1.70233512, -1.6355332 , -1.56873129, -1.50192937,\n",
       "        -1.43512745, -1.36832553, -1.30152361, -1.23472169, -1.16791978,\n",
       "        -1.10111786, -1.03431594, -0.96751402, -0.9007121 , -0.83391018,\n",
       "        -0.76710826, -0.70030635, -0.63350443, -0.56670251, -0.49990059,\n",
       "        -0.43309867, -0.36629675, -0.29949483, -0.23269292, -0.165891  ,\n",
       "        -0.09908908, -0.03228716,  0.03451476,  0.10131668,  0.16811859,\n",
       "         0.23492051,  0.30172243,  0.36852435,  0.43532627,  0.50212819,\n",
       "         0.56893011,  0.63573202,  0.70253394,  0.76933586,  0.83613778,\n",
       "         0.9029397 ,  0.96974162,  1.03654354,  1.10334545,  1.17014737,\n",
       "         1.23694929,  1.30375121,  1.37055313,  1.43735505,  1.50415696,\n",
       "         1.57095888,  1.6377608 ,  1.70456272,  1.77136464,  1.83816656,\n",
       "         1.90496848,  1.97177039,  2.03857231,  2.10537423,  2.17217615,\n",
       "         2.23897807,  2.30577999,  2.3725819 ,  2.43938382,  2.50618574,\n",
       "         2.57298766,  2.63978958,  2.7065915 ,  2.77339342,  2.84019533,\n",
       "         2.90699725,  2.97379917,  3.04060109,  3.10740301,  3.17420493,\n",
       "         3.24100685,  3.30780876,  3.37461068,  3.4414126 ,  3.50821452,\n",
       "         3.57501644]),\n",
       " <BarContainer object of 100 artists>)"
      ]
     },
     "execution_count": 25,
     "metadata": {},
     "output_type": "execute_result"
    },
    {
     "data": {
      "image/png": "[encoded data removed]",
      "text/plain": [
       "<Figure size 432x288 with 1 Axes>"
      ]
     },
     "metadata": {
      "needs_background": "light"
     },
     "output_type": "display_data"
    }
   ],
   "source": [
    "plt.hist(a,bins = 100)"
   ]
  },
  {
   "cell_type": "code",
   "execution_count": 26,
   "id": "3596ff12",
   "metadata": {},
   "outputs": [
    {
     "data": {
      "text/plain": [
       "(array([1.000e+00, 0.000e+00, 0.000e+00, 0.000e+00, 0.000e+00, 0.000e+00,\n",
       "        0.000e+00, 0.000e+00, 1.000e+00, 0.000e+00, 2.000e+00, 2.000e+00,\n",
       "        0.000e+00, 1.000e+00, 1.000e+00, 3.000e+00, 3.000e+00, 1.000e+00,\n",
       "        2.000e+00, 2.000e+00, 1.000e+00, 1.000e+00, 4.000e+00, 1.000e+00,\n",
       "        3.000e+00, 4.000e+00, 8.000e+00, 9.000e+00, 7.000e+00, 8.000e+00,\n",
       "        6.000e+00, 9.000e+00, 1.700e+01, 1.100e+01, 1.800e+01, 1.900e+01,\n",
       "        1.900e+01, 2.100e+01, 2.000e+01, 3.200e+01, 1.700e+01, 3.200e+01,\n",
       "        5.200e+01, 4.900e+01, 6.200e+01, 5.800e+01, 6.400e+01, 7.500e+01,\n",
       "        9.600e+01, 1.150e+02, 9.500e+01, 1.150e+02, 1.220e+02, 1.320e+02,\n",
       "        1.470e+02, 1.700e+02, 1.880e+02, 2.010e+02, 2.150e+02, 2.440e+02,\n",
       "        2.660e+02, 2.670e+02, 3.300e+02, 3.370e+02, 3.780e+02, 4.090e+02,\n",
       "        4.260e+02, 4.070e+02, 4.550e+02, 4.870e+02, 5.190e+02, 5.950e+02,\n",
       "        6.180e+02, 6.520e+02, 6.970e+02, 7.070e+02, 7.500e+02, 8.420e+02,\n",
       "        8.020e+02, 8.170e+02, 8.980e+02, 9.210e+02, 9.540e+02, 1.063e+03,\n",
       "        1.111e+03, 1.150e+03, 1.150e+03, 1.234e+03, 1.249e+03, 1.310e+03,\n",
       "        1.389e+03, 1.372e+03, 1.452e+03, 1.460e+03, 1.568e+03, 1.559e+03,\n",
       "        1.518e+03, 1.586e+03, 1.535e+03, 1.526e+03, 1.657e+03, 1.625e+03,\n",
       "        1.696e+03, 1.627e+03, 1.681e+03, 1.659e+03, 1.651e+03, 1.624e+03,\n",
       "        1.629e+03, 1.653e+03, 1.672e+03, 1.684e+03, 1.638e+03, 1.704e+03,\n",
       "        1.591e+03, 1.605e+03, 1.482e+03, 1.518e+03, 1.469e+03, 1.438e+03,\n",
       "        1.434e+03, 1.342e+03, 1.306e+03, 1.337e+03, 1.281e+03, 1.244e+03,\n",
       "        1.212e+03, 1.121e+03, 1.063e+03, 1.016e+03, 9.840e+02, 9.970e+02,\n",
       "        9.090e+02, 8.550e+02, 7.820e+02, 7.790e+02, 7.580e+02, 7.120e+02,\n",
       "        7.110e+02, 6.490e+02, 6.030e+02, 5.600e+02, 5.260e+02, 5.100e+02,\n",
       "        4.810e+02, 4.260e+02, 3.910e+02, 4.160e+02, 3.880e+02, 3.480e+02,\n",
       "        3.230e+02, 2.710e+02, 2.170e+02, 2.430e+02, 2.110e+02, 2.060e+02,\n",
       "        2.010e+02, 1.510e+02, 1.510e+02, 1.260e+02, 1.100e+02, 1.020e+02,\n",
       "        1.140e+02, 1.050e+02, 8.700e+01, 7.100e+01, 7.200e+01, 6.300e+01,\n",
       "        6.500e+01, 4.900e+01, 5.000e+01, 4.200e+01, 2.800e+01, 3.600e+01,\n",
       "        3.000e+01, 1.200e+01, 2.500e+01, 2.200e+01, 2.000e+01, 1.400e+01,\n",
       "        9.000e+00, 9.000e+00, 1.200e+01, 1.100e+01, 6.000e+00, 4.000e+00,\n",
       "        4.000e+00, 8.000e+00, 3.000e+00, 1.000e+00, 3.000e+00, 3.000e+00,\n",
       "        4.000e+00, 3.000e+00, 1.000e+00, 2.000e+00, 0.000e+00, 1.000e+00,\n",
       "        2.000e+00, 1.000e+00]),\n",
       " array([-4.48417088, -4.44205796, -4.39994505, -4.35783213, -4.31571921,\n",
       "        -4.27360629, -4.23149337, -4.18938045, -4.14726753, -4.10515462,\n",
       "        -4.0630417 , -4.02092878, -3.97881586, -3.93670294, -3.89459002,\n",
       "        -3.8524771 , -3.81036419, -3.76825127, -3.72613835, -3.68402543,\n",
       "        -3.64191251, -3.59979959, -3.55768667, -3.51557376, -3.47346084,\n",
       "        -3.43134792, -3.389235  , -3.34712208, -3.30500916, -3.26289624,\n",
       "        -3.22078333, -3.17867041, -3.13655749, -3.09444457, -3.05233165,\n",
       "        -3.01021873, -2.96810581, -2.9259929 , -2.88387998, -2.84176706,\n",
       "        -2.79965414, -2.75754122, -2.7154283 , -2.67331539, -2.63120247,\n",
       "        -2.58908955, -2.54697663, -2.50486371, -2.46275079, -2.42063787,\n",
       "        -2.37852496, -2.33641204, -2.29429912, -2.2521862 , -2.21007328,\n",
       "        -2.16796036, -2.12584744, -2.08373453, -2.04162161, -1.99950869,\n",
       "        -1.95739577, -1.91528285, -1.87316993, -1.83105701, -1.7889441 ,\n",
       "        -1.74683118, -1.70471826, -1.66260534, -1.62049242, -1.5783795 ,\n",
       "        -1.53626658, -1.49415367, -1.45204075, -1.40992783, -1.36781491,\n",
       "        -1.32570199, -1.28358907, -1.24147615, -1.19936324, -1.15725032,\n",
       "        -1.1151374 , -1.07302448, -1.03091156, -0.98879864, -0.94668572,\n",
       "        -0.90457281, -0.86245989, -0.82034697, -0.77823405, -0.73612113,\n",
       "        -0.69400821, -0.65189529, -0.60978238, -0.56766946, -0.52555654,\n",
       "        -0.48344362, -0.4413307 , -0.39921778, -0.35710486, -0.31499195,\n",
       "        -0.27287903, -0.23076611, -0.18865319, -0.14654027, -0.10442735,\n",
       "        -0.06231444, -0.02020152,  0.0219114 ,  0.06402432,  0.10613724,\n",
       "         0.14825016,  0.19036308,  0.23247599,  0.27458891,  0.31670183,\n",
       "         0.35881475,  0.40092767,  0.44304059,  0.48515351,  0.52726642,\n",
       "         0.56937934,  0.61149226,  0.65360518,  0.6957181 ,  0.73783102,\n",
       "         0.77994394,  0.82205685,  0.86416977,  0.90628269,  0.94839561,\n",
       "         0.99050853,  1.03262145,  1.07473437,  1.11684728,  1.1589602 ,\n",
       "         1.20107312,  1.24318604,  1.28529896,  1.32741188,  1.3695248 ,\n",
       "         1.41163771,  1.45375063,  1.49586355,  1.53797647,  1.58008939,\n",
       "         1.62220231,  1.66431523,  1.70642814,  1.74854106,  1.79065398,\n",
       "         1.8327669 ,  1.87487982,  1.91699274,  1.95910566,  2.00121857,\n",
       "         2.04333149,  2.08544441,  2.12755733,  2.16967025,  2.21178317,\n",
       "         2.25389608,  2.296009  ,  2.33812192,  2.38023484,  2.42234776,\n",
       "         2.46446068,  2.5065736 ,  2.54868651,  2.59079943,  2.63291235,\n",
       "         2.67502527,  2.71713819,  2.75925111,  2.80136403,  2.84347694,\n",
       "         2.88558986,  2.92770278,  2.9698157 ,  3.01192862,  3.05404154,\n",
       "         3.09615446,  3.13826737,  3.18038029,  3.22249321,  3.26460613,\n",
       "         3.30671905,  3.34883197,  3.39094489,  3.4330578 ,  3.47517072,\n",
       "         3.51728364,  3.55939656,  3.60150948,  3.6436224 ,  3.68573532,\n",
       "         3.72784823,  3.76996115,  3.81207407,  3.85418699,  3.89629991,\n",
       "         3.93841283]),\n",
       " <BarContainer object of 200 artists>)"
      ]
     },
     "execution_count": 26,
     "metadata": {},
     "output_type": "execute_result"
    },
    {
     "data": {
      "image/png": "[encoded data removed]",
      "text/plain": [
       "<Figure size 432x288 with 1 Axes>"
      ]
     },
     "metadata": {
      "needs_background": "light"
     },
     "output_type": "display_data"
    }
   ],
   "source": [
    "b = np.random.randn(100000)\n",
    "plt.hist(b,bins=200)"
   ]
  },
  {
   "cell_type": "code",
   "execution_count": 27,
   "id": "f0c01b48",
   "metadata": {},
   "outputs": [],
   "source": [
    "c = np.random.rand(2,3)"
   ]
  },
  {
   "cell_type": "code",
   "execution_count": 28,
   "id": "9d3e6d9d",
   "metadata": {},
   "outputs": [
    {
     "data": {
      "text/plain": [
       "array([[0.26934416, 0.51364074, 0.0675484 ],\n",
       "       [0.2075642 , 0.10160459, 0.05778278]])"
      ]
     },
     "execution_count": 28,
     "metadata": {},
     "output_type": "execute_result"
    }
   ],
   "source": [
    "c"
   ]
  },
  {
   "cell_type": "code",
   "execution_count": 29,
   "id": "059902a4",
   "metadata": {},
   "outputs": [
    {
     "data": {
      "text/plain": [
       "2"
      ]
     },
     "execution_count": 29,
     "metadata": {},
     "output_type": "execute_result"
    }
   ],
   "source": [
    "c.ndim"
   ]
  },
  {
   "cell_type": "code",
   "execution_count": 30,
   "id": "368a8528",
   "metadata": {},
   "outputs": [],
   "source": [
    "c = np.random.rand(2,5,4,2)"
   ]
  },
  {
   "cell_type": "code",
   "execution_count": 31,
   "id": "798fbf19",
   "metadata": {},
   "outputs": [
    {
     "data": {
      "text/plain": [
       "4"
      ]
     },
     "execution_count": 31,
     "metadata": {},
     "output_type": "execute_result"
    }
   ],
   "source": [
    "c.ndim"
   ]
  },
  {
   "cell_type": "code",
   "execution_count": 32,
   "id": "7adc67d5",
   "metadata": {},
   "outputs": [
    {
     "data": {
      "text/plain": [
       "(4, 25)"
      ]
     },
     "execution_count": 32,
     "metadata": {},
     "output_type": "execute_result"
    }
   ],
   "source": [
    "d = np.arange(100).reshape(4,25)\n",
    "d.shape"
   ]
  },
  {
   "cell_type": "code",
   "execution_count": 33,
   "id": "e72223fe",
   "metadata": {},
   "outputs": [
    {
     "data": {
      "text/plain": [
       "(4, 5, 5)"
      ]
     },
     "execution_count": 33,
     "metadata": {},
     "output_type": "execute_result"
    }
   ],
   "source": [
    "d = np.arange(100).reshape(4,5,5)\n",
    "d.shape"
   ]
  },
  {
   "cell_type": "markdown",
   "id": "50971a68",
   "metadata": {},
   "source": []
  },
  {
   "cell_type": "code",
   "execution_count": 34,
   "id": "2b1f6b93",
   "metadata": {},
   "outputs": [
    {
     "name": "stdout",
     "output_type": "stream",
     "text": [
      "[3 4 5 6 7 8 9]\n"
     ]
    }
   ],
   "source": [
    "a = np.arange(100)\n",
    "b = a[3:10]\n",
    "print(b)"
   ]
  },
  {
   "cell_type": "code",
   "execution_count": 35,
   "id": "bbd67c18",
   "metadata": {},
   "outputs": [
    {
     "data": {
      "text/plain": [
       "array([-200,    4,    5,    6,    7,    8,    9])"
      ]
     },
     "execution_count": 35,
     "metadata": {},
     "output_type": "execute_result"
    }
   ],
   "source": [
    "b [0] = -200\n",
    "b"
   ]
  },
  {
   "cell_type": "code",
   "execution_count": null,
   "id": "e18d5877",
   "metadata": {},
   "outputs": [],
   "source": []
  },
  {
   "cell_type": "code",
   "execution_count": 36,
   "id": "268625d3",
   "metadata": {},
   "outputs": [
    {
     "data": {
      "text/plain": [
       "array([   0,    1,    2, -200,    4,    5,    6,    7,    8,    9,   10,\n",
       "         11,   12,   13,   14,   15,   16,   17,   18,   19,   20,   21,\n",
       "         22,   23,   24,   25,   26,   27,   28,   29,   30,   31,   32,\n",
       "         33,   34,   35,   36,   37,   38,   39,   40,   41,   42,   43,\n",
       "         44,   45,   46,   47,   48,   49,   50,   51,   52,   53,   54,\n",
       "         55,   56,   57,   58,   59,   60,   61,   62,   63,   64,   65,\n",
       "         66,   67,   68,   69,   70,   71,   72,   73,   74,   75,   76,\n",
       "         77,   78,   79,   80,   81,   82,   83,   84,   85,   86,   87,\n",
       "         88,   89,   90,   91,   92,   93,   94,   95,   96,   97,   98,\n",
       "         99])"
      ]
     },
     "execution_count": 36,
     "metadata": {},
     "output_type": "execute_result"
    }
   ],
   "source": [
    "a"
   ]
  },
  {
   "cell_type": "code",
   "execution_count": 37,
   "id": "760bd6d0",
   "metadata": {},
   "outputs": [
    {
     "data": {
      "text/plain": [
       "array([ 0,  2,  4,  6,  8, 10, 12, 14, 16, 18, 20, 22, 24, 26, 28, 30, 32,\n",
       "       34, 36, 38, 40, 42, 44, 46, 48, 50, 52, 54, 56, 58, 60, 62, 64, 66,\n",
       "       68, 70, 72, 74, 76, 78, 80, 82, 84, 86, 88, 90, 92, 94, 96, 98])"
      ]
     },
     "execution_count": 37,
     "metadata": {},
     "output_type": "execute_result"
    }
   ],
   "source": [
    "b = a[3:10].copy()\n",
    "a[::2]"
   ]
  },
  {
   "cell_type": "code",
   "execution_count": 38,
   "id": "2220c8c5",
   "metadata": {},
   "outputs": [
    {
     "data": {
      "text/plain": [
       "array([  99,   97,   95,   93,   91,   89,   87,   85,   83,   81,   79,\n",
       "         77,   75,   73,   71,   69,   67,   65,   63,   61,   59,   57,\n",
       "         55,   53,   51,   49,   47,   45,   43,   41,   39,   37,   35,\n",
       "         33,   31,   29,   27,   25,   23,   21,   19,   17,   15,   13,\n",
       "         11,    9,    7,    5, -200,    1])"
      ]
     },
     "execution_count": 38,
     "metadata": {},
     "output_type": "execute_result"
    }
   ],
   "source": [
    "a[::-2]"
   ]
  },
  {
   "cell_type": "code",
   "execution_count": 39,
   "id": "9c6a1aef",
   "metadata": {},
   "outputs": [
    {
     "data": {
      "text/plain": [
       "array([   0,    1,    2, -200,    4,    5,    6,    7,    8,    9,   10,\n",
       "         11,   12,   13,   14,   15,   16,   17,   18,   19,   20,   21,\n",
       "         22,   23,   24,   25,   26,   27,   28,   29,   30,   31,   32,\n",
       "         33,   34,   35,   36,   37,   38,   39,   40,   41,   42,   43,\n",
       "         44,   45,   46,   47,   48,   49,   50,   51,   52,   53,   54,\n",
       "         55,   56,   57,   58,   59,   60,   61,   62,   63,   64,   65,\n",
       "         66,   67,   68,   69,   70,   71,   72,   73,   74,   75,   76,\n",
       "         77,   78,   79,   80,   81,   82,   83,   84,   85,   86,   87,\n",
       "         88,   89,   90,   91,   92,   93,   94,   95,   96,   97,   98,\n",
       "         99])"
      ]
     },
     "execution_count": 39,
     "metadata": {},
     "output_type": "execute_result"
    }
   ],
   "source": [
    "a"
   ]
  },
  {
   "cell_type": "code",
   "execution_count": 40,
   "id": "cfc9e55d",
   "metadata": {},
   "outputs": [
    {
     "data": {
      "text/plain": [
       "3"
      ]
     },
     "execution_count": 40,
     "metadata": {},
     "output_type": "execute_result"
    }
   ],
   "source": [
    "idx = np.argwhere(a==-200)[0][0]\n",
    "idx"
   ]
  },
  {
   "cell_type": "code",
   "execution_count": 41,
   "id": "33301ded",
   "metadata": {},
   "outputs": [
    {
     "data": {
      "text/plain": [
       "array([ 0,  1,  2,  3,  4,  5,  6,  7,  8,  9, 10, 11, 12, 13, 14, 15, 16,\n",
       "       17, 18, 19, 20, 21, 22, 23, 24, 25, 26, 27, 28, 29, 30, 31, 32, 33,\n",
       "       34, 35, 36, 37, 38, 39, 40, 41, 42, 43, 44, 45, 46, 47, 48, 49, 50,\n",
       "       51, 52, 53, 54, 55, 56, 57, 58, 59, 60, 61, 62, 63, 64, 65, 66, 67,\n",
       "       68, 69, 70, 71, 72, 73, 74, 75, 76, 77, 78, 79, 80, 81, 82, 83, 84,\n",
       "       85, 86, 87, 88, 89, 90, 91, 92, 93, 94, 95, 96, 97, 98, 99])"
      ]
     },
     "execution_count": 41,
     "metadata": {},
     "output_type": "execute_result"
    }
   ],
   "source": [
    "a[3] = 3\n",
    "a"
   ]
  },
  {
   "cell_type": "markdown",
   "id": "f64eb600",
   "metadata": {},
   "source": [
    "# round"
   ]
  },
  {
   "cell_type": "code",
   "execution_count": 42,
   "id": "39d629e1",
   "metadata": {},
   "outputs": [
    {
     "data": {
      "text/plain": [
       "array([[5., 4., 3., 4.],\n",
       "       [0., 8., 4., 4.],\n",
       "       [1., 5., 2., 9.],\n",
       "       [3., 8., 5., 4.],\n",
       "       [3., 8., 7., 4.]])"
      ]
     },
     "execution_count": 42,
     "metadata": {},
     "output_type": "execute_result"
    }
   ],
   "source": [
    "a = np.round(10*np.random.rand(5,4))\n",
    "a\n",
    "# a[1,2]"
   ]
  },
  {
   "cell_type": "code",
   "execution_count": 43,
   "id": "e7c486da",
   "metadata": {},
   "outputs": [
    {
     "data": {
      "text/plain": [
       "4.0"
      ]
     },
     "execution_count": 43,
     "metadata": {},
     "output_type": "execute_result"
    }
   ],
   "source": [
    "a[1,2]"
   ]
  },
  {
   "cell_type": "code",
   "execution_count": 44,
   "id": "9dcb2aca",
   "metadata": {},
   "outputs": [
    {
     "data": {
      "text/plain": [
       "array([0., 8., 4., 4.])"
      ]
     },
     "execution_count": 44,
     "metadata": {},
     "output_type": "execute_result"
    }
   ],
   "source": [
    "a[1,:]"
   ]
  },
  {
   "cell_type": "code",
   "execution_count": 45,
   "id": "cb20a51d",
   "metadata": {},
   "outputs": [
    {
     "data": {
      "text/plain": [
       "array([0., 8., 4., 4.])"
      ]
     },
     "execution_count": 45,
     "metadata": {},
     "output_type": "execute_result"
    }
   ],
   "source": [
    "a[1,:]"
   ]
  },
  {
   "cell_type": "code",
   "execution_count": 46,
   "id": "c8d19c63",
   "metadata": {},
   "outputs": [
    {
     "data": {
      "text/plain": [
       "array([[4., 4.],\n",
       "       [2., 9.]])"
      ]
     },
     "execution_count": 46,
     "metadata": {},
     "output_type": "execute_result"
    }
   ],
   "source": [
    "a[1:3,2:4]"
   ]
  },
  {
   "cell_type": "code",
   "execution_count": 47,
   "id": "5d160d9f",
   "metadata": {},
   "outputs": [
    {
     "data": {
      "text/plain": [
       "array([[5., 0., 1., 3., 3.],\n",
       "       [4., 8., 5., 8., 8.],\n",
       "       [3., 4., 2., 5., 7.],\n",
       "       [4., 4., 9., 4., 4.]])"
      ]
     },
     "execution_count": 47,
     "metadata": {},
     "output_type": "execute_result"
    }
   ],
   "source": [
    "a.T"
   ]
  },
  {
   "cell_type": "code",
   "execution_count": 48,
   "id": "2761bf87",
   "metadata": {},
   "outputs": [],
   "source": [
    "import numpy.linalg as la"
   ]
  },
  {
   "cell_type": "code",
   "execution_count": 49,
   "id": "ecf7cc64",
   "metadata": {},
   "outputs": [
    {
     "data": {
      "text/plain": [
       "array([[-2.80504412,  5.80525996, -3.30599994],\n",
       "       [-0.05486306,  0.04536279,  2.07539575],\n",
       "       [ 4.02165674, -5.97493345,  2.53744603]])"
      ]
     },
     "execution_count": 49,
     "metadata": {},
     "output_type": "execute_result"
    }
   ],
   "source": [
    "la.inv(np.random.rand(3,3))"
   ]
  },
  {
   "cell_type": "code",
   "execution_count": 50,
   "id": "de8f6ce4",
   "metadata": {},
   "outputs": [
    {
     "data": {
      "text/plain": [
       "array([[0., 4., 2., 4.],\n",
       "       [1., 5., 3., 4.],\n",
       "       [3., 8., 4., 4.],\n",
       "       [3., 8., 5., 4.],\n",
       "       [5., 8., 7., 9.]])"
      ]
     },
     "execution_count": 50,
     "metadata": {},
     "output_type": "execute_result"
    }
   ],
   "source": [
    "a.sort(axis=0)\n",
    "a"
   ]
  },
  {
   "cell_type": "code",
   "execution_count": 51,
   "id": "2005442c",
   "metadata": {},
   "outputs": [],
   "source": [
    "a.sort(axis=1)"
   ]
  },
  {
   "cell_type": "code",
   "execution_count": 52,
   "id": "d8f87c6d",
   "metadata": {},
   "outputs": [
    {
     "data": {
      "text/plain": [
       "array([[0., 2., 4., 4.],\n",
       "       [1., 3., 4., 5.],\n",
       "       [3., 4., 4., 8.],\n",
       "       [3., 4., 5., 8.],\n",
       "       [5., 7., 8., 9.]])"
      ]
     },
     "execution_count": 52,
     "metadata": {},
     "output_type": "execute_result"
    }
   ],
   "source": [
    "a"
   ]
  },
  {
   "cell_type": "markdown",
   "id": "f0802526",
   "metadata": {},
   "source": [
    "# copy"
   ]
  },
  {
   "cell_type": "code",
   "execution_count": 53,
   "id": "fd06103c",
   "metadata": {},
   "outputs": [
    {
     "data": {
      "text/plain": [
       "array([ 3,  5,  6, 65])"
      ]
     },
     "execution_count": 53,
     "metadata": {},
     "output_type": "execute_result"
    }
   ],
   "source": [
    "A = np.arange(100)\n",
    "B = A[[3,5,6,65]]\n",
    "B"
   ]
  },
  {
   "cell_type": "code",
   "execution_count": 54,
   "id": "f92f2503",
   "metadata": {},
   "outputs": [],
   "source": [
    "B[0] = 2"
   ]
  },
  {
   "cell_type": "code",
   "execution_count": 55,
   "id": "7d20f36d",
   "metadata": {},
   "outputs": [
    {
     "data": {
      "text/plain": [
       "array([ 2,  5,  6, 65])"
      ]
     },
     "execution_count": 55,
     "metadata": {},
     "output_type": "execute_result"
    }
   ],
   "source": [
    "B"
   ]
  },
  {
   "cell_type": "code",
   "execution_count": 56,
   "id": "49ba1307",
   "metadata": {},
   "outputs": [
    {
     "data": {
      "text/plain": [
       "array([ 0,  1,  2,  3,  4,  5,  6,  7,  8,  9, 10, 11, 12, 13, 14, 15, 16,\n",
       "       17, 18, 19, 20, 21, 22, 23, 24, 25, 26, 27, 28, 29, 30, 31, 32, 33,\n",
       "       34, 35, 36, 37, 38, 39, 40, 41, 42, 43, 44, 45, 46, 47, 48, 49, 50,\n",
       "       51, 52, 53, 54, 55, 56, 57, 58, 59, 60, 61, 62, 63, 64, 65, 66, 67,\n",
       "       68, 69, 70, 71, 72, 73, 74, 75, 76, 77, 78, 79, 80, 81, 82, 83, 84,\n",
       "       85, 86, 87, 88, 89, 90, 91, 92, 93, 94, 95, 96, 97, 98, 99])"
      ]
     },
     "execution_count": 56,
     "metadata": {},
     "output_type": "execute_result"
    }
   ],
   "source": [
    "A"
   ]
  },
  {
   "cell_type": "code",
   "execution_count": 57,
   "id": "19f3b098",
   "metadata": {},
   "outputs": [
    {
     "ename": "IndexError",
     "evalue": "too many indices for array: array is 1-dimensional, but 2 were indexed",
     "output_type": "error",
     "traceback": [
      "\u001b[0;31m---------------------------------------------------------------------------\u001b[0m",
      "\u001b[0;31mIndexError\u001b[0m                                Traceback (most recent call last)",
      "\u001b[0;32m/var/folders/2t/npm9f5rx29z9qmhpr69pp4z40000gn/T/ipykernel_35512/4204564162.py\u001b[0m in \u001b[0;36m<module>\u001b[0;34m\u001b[0m\n\u001b[0;32m----> 1\u001b[0;31m \u001b[0mB\u001b[0m \u001b[0;34m=\u001b[0m \u001b[0mA\u001b[0m\u001b[0;34m[\u001b[0m\u001b[0ma\u001b[0m\u001b[0;34m<\u001b[0m\u001b[0;36m40\u001b[0m\u001b[0;34m]\u001b[0m\u001b[0;34m\u001b[0m\u001b[0;34m\u001b[0m\u001b[0m\n\u001b[0m\u001b[1;32m      2\u001b[0m \u001b[0mB\u001b[0m\u001b[0;34m\u001b[0m\u001b[0;34m\u001b[0m\u001b[0m\n",
      "\u001b[0;31mIndexError\u001b[0m: too many indices for array: array is 1-dimensional, but 2 were indexed"
     ]
    }
   ],
   "source": [
    "B = A[a<40]\n",
    "B"
   ]
  },
  {
   "cell_type": "code",
   "execution_count": null,
   "id": "3bb8e244",
   "metadata": {},
   "outputs": [],
   "source": [
    "B = A[(A<40) & (A>30)]\n",
    "B"
   ]
  },
  {
   "cell_type": "code",
   "execution_count": null,
   "id": "acaacd09",
   "metadata": {},
   "outputs": [],
   "source": [
    "a = np.round(10*np.random.rand(2,3))\n",
    "a"
   ]
  },
  {
   "cell_type": "code",
   "execution_count": null,
   "id": "e9fd76c8",
   "metadata": {},
   "outputs": [],
   "source": [
    "a+3"
   ]
  },
  {
   "cell_type": "code",
   "execution_count": null,
   "id": "8d2efb25",
   "metadata": {},
   "outputs": [],
   "source": [
    "a+(np.arange(2).reshape(2,1))"
   ]
  },
  {
   "cell_type": "code",
   "execution_count": null,
   "id": "b62c959d",
   "metadata": {},
   "outputs": [],
   "source": [
    "a"
   ]
  },
  {
   "cell_type": "code",
   "execution_count": null,
   "id": "9ce6d14a",
   "metadata": {},
   "outputs": [],
   "source": [
    "b = np.round(10*np.random.rand(2,3))\n",
    "b"
   ]
  },
  {
   "cell_type": "code",
   "execution_count": null,
   "id": "a0fd2b27",
   "metadata": {},
   "outputs": [],
   "source": [
    "c = np.hstack((a,b))\n",
    "c"
   ]
  },
  {
   "cell_type": "code",
   "execution_count": null,
   "id": "03d4a2db",
   "metadata": {},
   "outputs": [],
   "source": [
    "d = np.vstack((a,b))\n",
    "d"
   ]
  },
  {
   "cell_type": "code",
   "execution_count": null,
   "id": "9113a687",
   "metadata": {},
   "outputs": [],
   "source": [
    "a = np.random.permutation(np.arange(10))\n",
    "a"
   ]
  },
  {
   "cell_type": "code",
   "execution_count": null,
   "id": "0cd9b71d",
   "metadata": {},
   "outputs": [],
   "source": [
    "np.sort(a)"
   ]
  },
  {
   "cell_type": "code",
   "execution_count": null,
   "id": "a1bf62f9",
   "metadata": {},
   "outputs": [],
   "source": [
    "a.sort()\n",
    "a = a[::-1]\n",
    "a"
   ]
  },
  {
   "cell_type": "code",
   "execution_count": null,
   "id": "2533e1c0",
   "metadata": {},
   "outputs": [],
   "source": [
    "a"
   ]
  },
  {
   "cell_type": "code",
   "execution_count": null,
   "id": "e63f877e",
   "metadata": {},
   "outputs": [],
   "source": [
    "np.sort(a)"
   ]
  },
  {
   "cell_type": "code",
   "execution_count": null,
   "id": "1bcb808c",
   "metadata": {},
   "outputs": [],
   "source": []
  },
  {
   "cell_type": "code",
   "execution_count": null,
   "id": "15645a34",
   "metadata": {},
   "outputs": [],
   "source": []
  }
 ],
 "metadata": {
  "kernelspec": {
   "display_name": "Python 3 (ipykernel)",
   "language": "python",
   "name": "python3"
  },
  "language_info": {
   "codemirror_mode": {
    "name": "ipython",
    "version": 3
   },
   "file_extension": ".py",
   "mimetype": "text/x-python",
   "name": "python",
   "nbconvert_exporter": "python",
   "pygments_lexer": "ipython3",
   "version": "3.9.7"
  },
  "widgets": {
   "application/vnd.jupyter.widget-state+json": {
    "state": {},
    "version_major": 2,
    "version_minor": 0
   }
  }
 },
 "nbformat": 4,
 "nbformat_minor": 5
}
